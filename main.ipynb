{
 "cells": [
  {
   "cell_type": "markdown",
   "metadata": {},
   "source": [
    "# CS202 Assignment 4\n",
    "\n",
    "## Imports"
   ]
  },
  {
   "cell_type": "code",
   "execution_count": 8,
   "metadata": {},
   "outputs": [],
   "source": [
    "import matplotlib.pyplot as plt\n",
    "from run_pydriller import REPOS, run_pydriller"
   ]
  },
  {
   "cell_type": "markdown",
   "metadata": {},
   "source": [
    "## Running Pydriller on the repositories"
   ]
  },
  {
   "cell_type": "code",
   "execution_count": 19,
   "metadata": {},
   "outputs": [
    {
     "name": "stdout",
     "output_type": "stream",
     "text": [
      "Analyzing repository: llama-cpp-python\n"
     ]
    },
    {
     "name": "stderr",
     "output_type": "stream",
     "text": [
      "Processing llama-cpp-python: 2017it [00:58, 34.70it/s]\n"
     ]
    },
    {
     "name": "stdout",
     "output_type": "stream",
     "text": [
      "Discrepancy1\n",
      "False    2502\n",
      "True       92\n",
      "Name: count, dtype: int64\n",
      "Discrepancy2\n",
      "False    2504\n",
      "True       90\n",
      "Name: count, dtype: int64\n"
     ]
    },
    {
     "data": {
      "text/html": [
       "<div>\n",
       "<style scoped>\n",
       "    .dataframe tbody tr th:only-of-type {\n",
       "        vertical-align: middle;\n",
       "    }\n",
       "\n",
       "    .dataframe tbody tr th {\n",
       "        vertical-align: top;\n",
       "    }\n",
       "\n",
       "    .dataframe thead th {\n",
       "        text-align: right;\n",
       "    }\n",
       "</style>\n",
       "<table border=\"1\" class=\"dataframe\">\n",
       "  <thead>\n",
       "    <tr style=\"text-align: right;\">\n",
       "      <th></th>\n",
       "      <th>old_file path</th>\n",
       "      <th>new_file path</th>\n",
       "      <th>commit SHA</th>\n",
       "      <th>parent commit SHA</th>\n",
       "      <th>commit message</th>\n",
       "      <th>diff_myers</th>\n",
       "      <th>diff_hist</th>\n",
       "      <th>Discrepancy1</th>\n",
       "      <th>Discrepancy2</th>\n",
       "    </tr>\n",
       "  </thead>\n",
       "  <tbody>\n",
       "    <tr>\n",
       "      <th>0</th>\n",
       "      <td>.gitignore</td>\n",
       "      <td>.gitignore</td>\n",
       "      <td>465238b179e68d8c3c5836a1d613b0fdbc4c0818</td>\n",
       "      <td>5bd6efb18afa7c09546661d2486db9baf23c36de</td>\n",
       "      <td>Updated package to build with skbuild</td>\n",
       "      <td>@@ -1,3 +1,5 @@\\n+_skbuild/\\n+\\n .envrc\\n \\n m...</td>\n",
       "      <td>@@ -1,3 +1,5 @@\\n+_skbuild/\\n+\\n .envrc\\n \\n m...</td>\n",
       "      <td>False</td>\n",
       "      <td>False</td>\n",
       "    </tr>\n",
       "    <tr>\n",
       "      <th>1</th>\n",
       "      <td>llama_cpp/llama_cpp.py</td>\n",
       "      <td>llama_cpp/llama_cpp.py</td>\n",
       "      <td>465238b179e68d8c3c5836a1d613b0fdbc4c0818</td>\n",
       "      <td>5bd6efb18afa7c09546661d2486db9baf23c36de</td>\n",
       "      <td>Updated package to build with skbuild</td>\n",
       "      <td>@@ -5,7 +5,7 @@ from ctypes import c_int, c_fl...</td>\n",
       "      <td>@@ -5,7 +5,7 @@ from ctypes import c_int, c_fl...</td>\n",
       "      <td>False</td>\n",
       "      <td>False</td>\n",
       "    </tr>\n",
       "    <tr>\n",
       "      <th>2</th>\n",
       "      <td>pyproject.toml</td>\n",
       "      <td>pyproject.toml</td>\n",
       "      <td>465238b179e68d8c3c5836a1d613b0fdbc4c0818</td>\n",
       "      <td>5bd6efb18afa7c09546661d2486db9baf23c36de</td>\n",
       "      <td>Updated package to build with skbuild</td>\n",
       "      <td>@@ -20,5 +20,10 @@ python = \"^3.8.1\"\\n black =...</td>\n",
       "      <td>@@ -20,5 +20,10 @@ python = \"^3.8.1\"\\n black =...</td>\n",
       "      <td>False</td>\n",
       "      <td>False</td>\n",
       "    </tr>\n",
       "    <tr>\n",
       "      <th>3</th>\n",
       "      <td>setup.py</td>\n",
       "      <td>setup.py</td>\n",
       "      <td>465238b179e68d8c3c5836a1d613b0fdbc4c0818</td>\n",
       "      <td>5bd6efb18afa7c09546661d2486db9baf23c36de</td>\n",
       "      <td>Updated package to build with skbuild</td>\n",
       "      <td>@@ -1,42 +1,11 @@\\n-import os\\n-import subproc...</td>\n",
       "      <td>@@ -1,42 +1,11 @@\\n-import os\\n-import subproc...</td>\n",
       "      <td>False</td>\n",
       "      <td>False</td>\n",
       "    </tr>\n",
       "    <tr>\n",
       "      <th>4</th>\n",
       "      <td>poetry.lock</td>\n",
       "      <td>poetry.lock</td>\n",
       "      <td>93f074a4fad22bbc8c7ed76fe207828cfbd0e209</td>\n",
       "      <td>465238b179e68d8c3c5836a1d613b0fdbc4c0818</td>\n",
       "      <td>Initial pypi release</td>\n",
       "      <td>@@ -21,6 +21,48 @@ d = [\"aiohttp (&gt;=3.7.4)\"]\\n...</td>\n",
       "      <td>@@ -21,6 +21,48 @@ d = [\"aiohttp (&gt;=3.7.4)\"]\\n...</td>\n",
       "      <td>False</td>\n",
       "      <td>False</td>\n",
       "    </tr>\n",
       "  </tbody>\n",
       "</table>\n",
       "</div>"
      ],
      "text/plain": [
       "            old_file path           new_file path  \\\n",
       "0              .gitignore              .gitignore   \n",
       "1  llama_cpp/llama_cpp.py  llama_cpp/llama_cpp.py   \n",
       "2          pyproject.toml          pyproject.toml   \n",
       "3                setup.py                setup.py   \n",
       "4             poetry.lock             poetry.lock   \n",
       "\n",
       "                                 commit SHA  \\\n",
       "0  465238b179e68d8c3c5836a1d613b0fdbc4c0818   \n",
       "1  465238b179e68d8c3c5836a1d613b0fdbc4c0818   \n",
       "2  465238b179e68d8c3c5836a1d613b0fdbc4c0818   \n",
       "3  465238b179e68d8c3c5836a1d613b0fdbc4c0818   \n",
       "4  93f074a4fad22bbc8c7ed76fe207828cfbd0e209   \n",
       "\n",
       "                          parent commit SHA  \\\n",
       "0  5bd6efb18afa7c09546661d2486db9baf23c36de   \n",
       "1  5bd6efb18afa7c09546661d2486db9baf23c36de   \n",
       "2  5bd6efb18afa7c09546661d2486db9baf23c36de   \n",
       "3  5bd6efb18afa7c09546661d2486db9baf23c36de   \n",
       "4  465238b179e68d8c3c5836a1d613b0fdbc4c0818   \n",
       "\n",
       "                          commit message  \\\n",
       "0  Updated package to build with skbuild   \n",
       "1  Updated package to build with skbuild   \n",
       "2  Updated package to build with skbuild   \n",
       "3  Updated package to build with skbuild   \n",
       "4                   Initial pypi release   \n",
       "\n",
       "                                          diff_myers  \\\n",
       "0  @@ -1,3 +1,5 @@\\n+_skbuild/\\n+\\n .envrc\\n \\n m...   \n",
       "1  @@ -5,7 +5,7 @@ from ctypes import c_int, c_fl...   \n",
       "2  @@ -20,5 +20,10 @@ python = \"^3.8.1\"\\n black =...   \n",
       "3  @@ -1,42 +1,11 @@\\n-import os\\n-import subproc...   \n",
       "4  @@ -21,6 +21,48 @@ d = [\"aiohttp (>=3.7.4)\"]\\n...   \n",
       "\n",
       "                                           diff_hist  Discrepancy1  \\\n",
       "0  @@ -1,3 +1,5 @@\\n+_skbuild/\\n+\\n .envrc\\n \\n m...         False   \n",
       "1  @@ -5,7 +5,7 @@ from ctypes import c_int, c_fl...         False   \n",
       "2  @@ -20,5 +20,10 @@ python = \"^3.8.1\"\\n black =...         False   \n",
       "3  @@ -1,42 +1,11 @@\\n-import os\\n-import subproc...         False   \n",
       "4  @@ -21,6 +21,48 @@ d = [\"aiohttp (>=3.7.4)\"]\\n...         False   \n",
       "\n",
       "   Discrepancy2  \n",
       "0         False  \n",
       "1         False  \n",
       "2         False  \n",
       "3         False  \n",
       "4         False  "
      ]
     },
     "metadata": {},
     "output_type": "display_data"
    },
    {
     "name": "stdout",
     "output_type": "stream",
     "text": [
      "--------------------------------------------------------------------------------\n",
      "Analyzing repository: aeon\n"
     ]
    },
    {
     "name": "stderr",
     "output_type": "stream",
     "text": [
      "Processing aeon: 5018it [04:15, 19.65it/s]\n"
     ]
    },
    {
     "name": "stdout",
     "output_type": "stream",
     "text": [
      "Discrepancy1\n",
      "False    19862\n",
      "True      1231\n",
      "Name: count, dtype: int64\n",
      "Discrepancy2\n",
      "False    19880\n",
      "True      1213\n",
      "Name: count, dtype: int64\n"
     ]
    },
    {
     "data": {
      "text/html": [
       "<div>\n",
       "<style scoped>\n",
       "    .dataframe tbody tr th:only-of-type {\n",
       "        vertical-align: middle;\n",
       "    }\n",
       "\n",
       "    .dataframe tbody tr th {\n",
       "        vertical-align: top;\n",
       "    }\n",
       "\n",
       "    .dataframe thead th {\n",
       "        text-align: right;\n",
       "    }\n",
       "</style>\n",
       "<table border=\"1\" class=\"dataframe\">\n",
       "  <thead>\n",
       "    <tr style=\"text-align: right;\">\n",
       "      <th></th>\n",
       "      <th>old_file path</th>\n",
       "      <th>new_file path</th>\n",
       "      <th>commit SHA</th>\n",
       "      <th>parent commit SHA</th>\n",
       "      <th>commit message</th>\n",
       "      <th>diff_myers</th>\n",
       "      <th>diff_hist</th>\n",
       "      <th>Discrepancy1</th>\n",
       "      <th>Discrepancy2</th>\n",
       "    </tr>\n",
       "  </thead>\n",
       "  <tbody>\n",
       "    <tr>\n",
       "      <th>0</th>\n",
       "      <td>CONTRIBUTING.md</td>\n",
       "      <td>CONTRIBUTING.md</td>\n",
       "      <td>3bcd4ff337dd423ac4cc14ad937197e821ea111c</td>\n",
       "      <td>7294faa9d9459c70eab3d8afd981c98b778cf89f</td>\n",
       "      <td>updated contributing guidelines</td>\n",
       "      <td>@@ -55,8 +55,8 @@ following rules before you s...</td>\n",
       "      <td>@@ -55,8 +55,8 @@ following rules before you s...</td>\n",
       "      <td>False</td>\n",
       "      <td>False</td>\n",
       "    </tr>\n",
       "    <tr>\n",
       "      <th>1</th>\n",
       "      <td>.gitignore</td>\n",
       "      <td>.gitignore</td>\n",
       "      <td>1539eb3779745cde8495a8bff0ef0d1446a709c8</td>\n",
       "      <td>3bcd4ff337dd423ac4cc14ad937197e821ea111c</td>\n",
       "      <td>Initial commit with sklearn suggested template...</td>\n",
       "      <td>@@ -6,8 +6,16 @@ __pycache__/\\n # C extensions...</td>\n",
       "      <td>@@ -6,8 +6,16 @@ __pycache__/\\n # C extensions...</td>\n",
       "      <td>False</td>\n",
       "      <td>False</td>\n",
       "    </tr>\n",
       "    <tr>\n",
       "      <th>2</th>\n",
       "      <td>sktime/__init__.py</td>\n",
       "      <td>sktime/__init__.py</td>\n",
       "      <td>da12582f2a123f28152a11018bbc97085d99c06a</td>\n",
       "      <td>f598253ec6982b8962b538e7e216fa8b7ec2a782</td>\n",
       "      <td>Added a dummy classifier, with appropriate tes...</td>\n",
       "      <td>@@ -1,8 +1,6 @@\\n-from ._template import Templ...</td>\n",
       "      <td>@@ -1,8 +1,6 @@\\n-from ._template import Templ...</td>\n",
       "      <td>False</td>\n",
       "      <td>False</td>\n",
       "    </tr>\n",
       "    <tr>\n",
       "      <th>3</th>\n",
       "      <td>sktime/_version.py</td>\n",
       "      <td>sktime/_version.py</td>\n",
       "      <td>da12582f2a123f28152a11018bbc97085d99c06a</td>\n",
       "      <td>f598253ec6982b8962b538e7e216fa8b7ec2a782</td>\n",
       "      <td>Added a dummy classifier, with appropriate tes...</td>\n",
       "      <td>@@ -1 +1 @@\\n-__version__ = \"0.0.3\"\\n\\ No newl...</td>\n",
       "      <td>@@ -1 +1 @@\\n-__version__ = \"0.0.3\"\\n\\ No newl...</td>\n",
       "      <td>False</td>\n",
       "      <td>False</td>\n",
       "    </tr>\n",
       "    <tr>\n",
       "      <th>4</th>\n",
       "      <td>sktime/tests/test_common.py</td>\n",
       "      <td>sktime/tests/test_common.py</td>\n",
       "      <td>da12582f2a123f28152a11018bbc97085d99c06a</td>\n",
       "      <td>f598253ec6982b8962b538e7e216fa8b7ec2a782</td>\n",
       "      <td>Added a dummy classifier, with appropriate tes...</td>\n",
       "      <td>@@ -2,13 +2,11 @@ import pytest\\n \\n from skle...</td>\n",
       "      <td>@@ -2,13 +2,11 @@ import pytest\\n \\n from skle...</td>\n",
       "      <td>False</td>\n",
       "      <td>False</td>\n",
       "    </tr>\n",
       "  </tbody>\n",
       "</table>\n",
       "</div>"
      ],
      "text/plain": [
       "                 old_file path                new_file path  \\\n",
       "0              CONTRIBUTING.md              CONTRIBUTING.md   \n",
       "1                   .gitignore                   .gitignore   \n",
       "2           sktime/__init__.py           sktime/__init__.py   \n",
       "3           sktime/_version.py           sktime/_version.py   \n",
       "4  sktime/tests/test_common.py  sktime/tests/test_common.py   \n",
       "\n",
       "                                 commit SHA  \\\n",
       "0  3bcd4ff337dd423ac4cc14ad937197e821ea111c   \n",
       "1  1539eb3779745cde8495a8bff0ef0d1446a709c8   \n",
       "2  da12582f2a123f28152a11018bbc97085d99c06a   \n",
       "3  da12582f2a123f28152a11018bbc97085d99c06a   \n",
       "4  da12582f2a123f28152a11018bbc97085d99c06a   \n",
       "\n",
       "                          parent commit SHA  \\\n",
       "0  7294faa9d9459c70eab3d8afd981c98b778cf89f   \n",
       "1  3bcd4ff337dd423ac4cc14ad937197e821ea111c   \n",
       "2  f598253ec6982b8962b538e7e216fa8b7ec2a782   \n",
       "3  f598253ec6982b8962b538e7e216fa8b7ec2a782   \n",
       "4  f598253ec6982b8962b538e7e216fa8b7ec2a782   \n",
       "\n",
       "                                      commit message  \\\n",
       "0                    updated contributing guidelines   \n",
       "1  Initial commit with sklearn suggested template...   \n",
       "2  Added a dummy classifier, with appropriate tes...   \n",
       "3  Added a dummy classifier, with appropriate tes...   \n",
       "4  Added a dummy classifier, with appropriate tes...   \n",
       "\n",
       "                                          diff_myers  \\\n",
       "0  @@ -55,8 +55,8 @@ following rules before you s...   \n",
       "1  @@ -6,8 +6,16 @@ __pycache__/\\n # C extensions...   \n",
       "2  @@ -1,8 +1,6 @@\\n-from ._template import Templ...   \n",
       "3  @@ -1 +1 @@\\n-__version__ = \"0.0.3\"\\n\\ No newl...   \n",
       "4  @@ -2,13 +2,11 @@ import pytest\\n \\n from skle...   \n",
       "\n",
       "                                           diff_hist  Discrepancy1  \\\n",
       "0  @@ -55,8 +55,8 @@ following rules before you s...         False   \n",
       "1  @@ -6,8 +6,16 @@ __pycache__/\\n # C extensions...         False   \n",
       "2  @@ -1,8 +1,6 @@\\n-from ._template import Templ...         False   \n",
       "3  @@ -1 +1 @@\\n-__version__ = \"0.0.3\"\\n\\ No newl...         False   \n",
       "4  @@ -2,13 +2,11 @@ import pytest\\n \\n from skle...         False   \n",
       "\n",
       "   Discrepancy2  \n",
       "0         False  \n",
       "1         False  \n",
       "2         False  \n",
       "3         False  \n",
       "4         False  "
      ]
     },
     "metadata": {},
     "output_type": "display_data"
    },
    {
     "name": "stdout",
     "output_type": "stream",
     "text": [
      "--------------------------------------------------------------------------------\n",
      "Analyzing repository: faststream\n"
     ]
    },
    {
     "name": "stderr",
     "output_type": "stream",
     "text": [
      "Processing faststream: 1390it [01:55, 12.08it/s]\n"
     ]
    },
    {
     "name": "stdout",
     "output_type": "stream",
     "text": [
      "Discrepancy1\n",
      "False    9398\n",
      "True      510\n",
      "Name: count, dtype: int64\n",
      "Discrepancy2\n",
      "False    9410\n",
      "True      498\n",
      "Name: count, dtype: int64\n"
     ]
    },
    {
     "data": {
      "text/html": [
       "<div>\n",
       "<style scoped>\n",
       "    .dataframe tbody tr th:only-of-type {\n",
       "        vertical-align: middle;\n",
       "    }\n",
       "\n",
       "    .dataframe tbody tr th {\n",
       "        vertical-align: top;\n",
       "    }\n",
       "\n",
       "    .dataframe thead th {\n",
       "        text-align: right;\n",
       "    }\n",
       "</style>\n",
       "<table border=\"1\" class=\"dataframe\">\n",
       "  <thead>\n",
       "    <tr style=\"text-align: right;\">\n",
       "      <th></th>\n",
       "      <th>old_file path</th>\n",
       "      <th>new_file path</th>\n",
       "      <th>commit SHA</th>\n",
       "      <th>parent commit SHA</th>\n",
       "      <th>commit message</th>\n",
       "      <th>diff_myers</th>\n",
       "      <th>diff_hist</th>\n",
       "      <th>Discrepancy1</th>\n",
       "      <th>Discrepancy2</th>\n",
       "    </tr>\n",
       "  </thead>\n",
       "  <tbody>\n",
       "    <tr>\n",
       "      <th>0</th>\n",
       "      <td>.gitignore</td>\n",
       "      <td>.gitignore</td>\n",
       "      <td>f960f38651d09a11e9ab9bdcadf0516ce48e174c</td>\n",
       "      <td>b53ed92f6b2c05e1388baa37fdf2cad18201aee5</td>\n",
       "      <td>Initial init (#4)\\n\\n* initial commit\\r\\n\\r\\n*...</td>\n",
       "      <td>@@ -1,3 +1,9 @@\\n+# nbdev-mkdocs related files...</td>\n",
       "      <td>@@ -1,3 +1,9 @@\\n+# nbdev-mkdocs related files...</td>\n",
       "      <td>False</td>\n",
       "      <td>False</td>\n",
       "    </tr>\n",
       "    <tr>\n",
       "      <th>1</th>\n",
       "      <td>README.md</td>\n",
       "      <td>README.md</td>\n",
       "      <td>f960f38651d09a11e9ab9bdcadf0516ce48e174c</td>\n",
       "      <td>b53ed92f6b2c05e1388baa37fdf2cad18201aee5</td>\n",
       "      <td>Initial init (#4)\\n\\n* initial commit\\r\\n\\r\\n*...</td>\n",
       "      <td>@@ -1,2 +1,23 @@\\n-# fast-kafka-api\\n-Extensio...</td>\n",
       "      <td>@@ -1,2 +1,23 @@\\n-# fast-kafka-api\\n-Extensio...</td>\n",
       "      <td>False</td>\n",
       "      <td>False</td>\n",
       "    </tr>\n",
       "    <tr>\n",
       "      <th>2</th>\n",
       "      <td>README.md</td>\n",
       "      <td>README.md</td>\n",
       "      <td>b34a37d26c827d02cacddbbb9fb003663ee78fb2</td>\n",
       "      <td>f960f38651d09a11e9ab9bdcadf0516ce48e174c</td>\n",
       "      <td>Remove Infobip references in notebooks (#10)\\n...</td>\n",
       "      <td>@@ -17,7 +17,116 @@ pip install fast_kafka_api...</td>\n",
       "      <td>@@ -17,7 +17,116 @@ pip install fast_kafka_api...</td>\n",
       "      <td>False</td>\n",
       "      <td>False</td>\n",
       "    </tr>\n",
       "    <tr>\n",
       "      <th>3</th>\n",
       "      <td>fast_kafka_api/_modidx.py</td>\n",
       "      <td>fast_kafka_api/_modidx.py</td>\n",
       "      <td>b34a37d26c827d02cacddbbb9fb003663ee78fb2</td>\n",
       "      <td>f960f38651d09a11e9ab9bdcadf0516ce48e174c</td>\n",
       "      <td>Remove Infobip references in notebooks (#10)\\n...</td>\n",
       "      <td>@@ -119,24 +119,10 @@ d = { 'settings': { 'bra...</td>\n",
       "      <td>@@ -119,24 +119,10 @@ d = { 'settings': { 'bra...</td>\n",
       "      <td>False</td>\n",
       "      <td>False</td>\n",
       "    </tr>\n",
       "    <tr>\n",
       "      <th>4</th>\n",
       "      <td>fast_kafka_api/asyncapi.py</td>\n",
       "      <td>fast_kafka_api/asyncapi.py</td>\n",
       "      <td>b34a37d26c827d02cacddbbb9fb003663ee78fb2</td>\n",
       "      <td>f960f38651d09a11e9ab9bdcadf0516ce48e174c</td>\n",
       "      <td>Remove Infobip references in notebooks (#10)\\n...</td>\n",
       "      <td>@@ -22,6 +22,10 @@ from pydantic import Field,...</td>\n",
       "      <td>@@ -22,6 +22,10 @@ from pydantic import Field,...</td>\n",
       "      <td>False</td>\n",
       "      <td>False</td>\n",
       "    </tr>\n",
       "  </tbody>\n",
       "</table>\n",
       "</div>"
      ],
      "text/plain": [
       "                old_file path               new_file path  \\\n",
       "0                  .gitignore                  .gitignore   \n",
       "1                   README.md                   README.md   \n",
       "2                   README.md                   README.md   \n",
       "3   fast_kafka_api/_modidx.py   fast_kafka_api/_modidx.py   \n",
       "4  fast_kafka_api/asyncapi.py  fast_kafka_api/asyncapi.py   \n",
       "\n",
       "                                 commit SHA  \\\n",
       "0  f960f38651d09a11e9ab9bdcadf0516ce48e174c   \n",
       "1  f960f38651d09a11e9ab9bdcadf0516ce48e174c   \n",
       "2  b34a37d26c827d02cacddbbb9fb003663ee78fb2   \n",
       "3  b34a37d26c827d02cacddbbb9fb003663ee78fb2   \n",
       "4  b34a37d26c827d02cacddbbb9fb003663ee78fb2   \n",
       "\n",
       "                          parent commit SHA  \\\n",
       "0  b53ed92f6b2c05e1388baa37fdf2cad18201aee5   \n",
       "1  b53ed92f6b2c05e1388baa37fdf2cad18201aee5   \n",
       "2  f960f38651d09a11e9ab9bdcadf0516ce48e174c   \n",
       "3  f960f38651d09a11e9ab9bdcadf0516ce48e174c   \n",
       "4  f960f38651d09a11e9ab9bdcadf0516ce48e174c   \n",
       "\n",
       "                                      commit message  \\\n",
       "0  Initial init (#4)\\n\\n* initial commit\\r\\n\\r\\n*...   \n",
       "1  Initial init (#4)\\n\\n* initial commit\\r\\n\\r\\n*...   \n",
       "2  Remove Infobip references in notebooks (#10)\\n...   \n",
       "3  Remove Infobip references in notebooks (#10)\\n...   \n",
       "4  Remove Infobip references in notebooks (#10)\\n...   \n",
       "\n",
       "                                          diff_myers  \\\n",
       "0  @@ -1,3 +1,9 @@\\n+# nbdev-mkdocs related files...   \n",
       "1  @@ -1,2 +1,23 @@\\n-# fast-kafka-api\\n-Extensio...   \n",
       "2  @@ -17,7 +17,116 @@ pip install fast_kafka_api...   \n",
       "3  @@ -119,24 +119,10 @@ d = { 'settings': { 'bra...   \n",
       "4  @@ -22,6 +22,10 @@ from pydantic import Field,...   \n",
       "\n",
       "                                           diff_hist  Discrepancy1  \\\n",
       "0  @@ -1,3 +1,9 @@\\n+# nbdev-mkdocs related files...         False   \n",
       "1  @@ -1,2 +1,23 @@\\n-# fast-kafka-api\\n-Extensio...         False   \n",
       "2  @@ -17,7 +17,116 @@ pip install fast_kafka_api...         False   \n",
       "3  @@ -119,24 +119,10 @@ d = { 'settings': { 'bra...         False   \n",
       "4  @@ -22,6 +22,10 @@ from pydantic import Field,...         False   \n",
       "\n",
       "   Discrepancy2  \n",
       "0         False  \n",
       "1         False  \n",
       "2         False  \n",
       "3         False  \n",
       "4         False  "
      ]
     },
     "metadata": {},
     "output_type": "display_data"
    },
    {
     "name": "stdout",
     "output_type": "stream",
     "text": [
      "--------------------------------------------------------------------------------\n",
      "Source code mismatches: 1361\n",
      "Test code mismatches: 405\n",
      "README mismatches: 32\n",
      "License mismatches: 3\n"
     ]
    }
   ],
   "source": [
    "total_source_code = total_test_code = total_readme = total_license = 0\n",
    "source_code_mismatch = 0\n",
    "test_code_mismatch = 0\n",
    "readme_mismatch = 0\n",
    "license_mismatch = 0\n",
    "d1a = d2a = d2d = d1d = 0\n",
    "\n",
    "for repo in REPOS:\n",
    "    df = run_pydriller(repo)\n",
    "    df.to_csv(f\"{repo.split('/')[-1]}_modified_files_diff_analysis.csv\", index=False)\n",
    "    print(df['Discrepancy1'].value_counts())\n",
    "    print(df['Discrepancy2'].value_counts())\n",
    "    d1a += df['Discrepancy1'].value_counts().get(False, 0)\n",
    "    d2a += df['Discrepancy2'].value_counts().get(False, 0)\n",
    "    d1d += df['Discrepancy1'].value_counts().get(True, 0)\n",
    "    d2d += df['Discrepancy2'].value_counts().get(True, 0)\n",
    "    display(df.head())\n",
    "\n",
    "    for index, file in df.iterrows():\n",
    "        if 'readme' in file['old_file path'].lower() or 'readme' in file['new_file path'].lower():\n",
    "            total_readme += 1\n",
    "        elif 'license' in file['old_file path'].lower() or 'license' in file['new_file path'].lower():\n",
    "            total_license += 1\n",
    "        elif 'test' in file['old_file path'].lower() or 'test' in file['new_file path'].lower():\n",
    "            total_test_code += 1\n",
    "        else:\n",
    "            total_source_code += 1\n",
    " \n",
    "        if not file['Discrepancy2']:\n",
    "            continue\n",
    "        if 'readme' in file['old_file path'].lower() or 'readme' in file['new_file path'].lower():\n",
    "            readme_mismatch += 1\n",
    "        elif 'license' in file['old_file path'].lower() or 'license' in file['new_file path'].lower():\n",
    "            license_mismatch += 1\n",
    "        elif 'test' in file['old_file path'].lower() or 'test' in file['new_file path'].lower():\n",
    "            test_code_mismatch += 1\n",
    "        else:\n",
    "            source_code_mismatch += 1\n",
    "    print(\"-\" * 80)\n",
    "\n",
    "print(f\"Source code mismatches: {source_code_mismatch}\")\n",
    "print(f\"Test code mismatches: {test_code_mismatch}\")\n",
    "print(f\"README mismatches: {readme_mismatch}\")\n",
    "print(f\"License mismatches: {license_mismatch}\")"
   ]
  },
  {
   "cell_type": "markdown",
   "metadata": {},
   "source": [
    "## Discrepancy analysis"
   ]
  },
  {
   "cell_type": "code",
   "execution_count": 24,
   "metadata": {},
   "outputs": [
    {
     "data": {
      "image/png": "[encoded data removed]",
      "text/plain": [
       "<Figure size 1000x500 with 2 Axes>"
      ]
     },
     "metadata": {},
     "output_type": "display_data"
    }
   ],
   "source": [
    "plt.figure(figsize=(10, 5))\n",
    "\n",
    "plt.subplot(1, 2, 1)\n",
    "plt.pie([d1a, d1d], labels=['Discrepancy1 (False)', 'Discrepancy1 (True)'], autopct='%1.1f%%')\n",
    "plt.title('Discrepancy1')\n",
    "\n",
    "plt.subplot(1, 2, 2)\n",
    "plt.pie([d2a, d2d], labels=['Discrepancy2 (False)', 'Discrepancy2 (True)'], autopct='%1.1f%%')\n",
    "plt.title('Discrepancy2')\n",
    "\n",
    "plt.tight_layout()\n",
    "plt.show()"
   ]
  },
  {
   "cell_type": "code",
   "execution_count": 25,
   "metadata": {},
   "outputs": [
    {
     "name": "stdout",
     "output_type": "stream",
     "text": [
      "Absolute Improvement: 32\n"
     ]
    }
   ],
   "source": [
    "print(\"Absolute Improvement:\", d1d - d2d)"
   ]
  },
  {
   "cell_type": "markdown",
   "metadata": {},
   "source": [
    "## Mismatch distribution"
   ]
  },
  {
   "cell_type": "code",
   "execution_count": 26,
   "metadata": {},
   "outputs": [
    {
     "data": {
      "image/png": "[encoded data removed]",
      "text/plain": [
       "<Figure size 800x800 with 1 Axes>"
      ]
     },
     "metadata": {},
     "output_type": "display_data"
    }
   ],
   "source": [
    "plt.figure(figsize=(8, 8))\n",
    "\n",
    "mismatch_counts = [source_code_mismatch, test_code_mismatch, license_mismatch, readme_mismatch]\n",
    "labels = ['Source Code Mismatch', 'Test Code Mismatch', 'License Mismatch', 'README Mismatch']\n",
    "\n",
    "plt.pie(mismatch_counts, labels=labels, autopct='%1.1f%%')\n",
    "plt.title('Mismatch Distribution')\n",
    "\n",
    "plt.show()"
   ]
  },
  {
   "cell_type": "markdown",
   "metadata": {},
   "source": [
    "## Relative mismatch distribution"
   ]
  },
  {
   "cell_type": "code",
   "execution_count": 27,
   "metadata": {},
   "outputs": [
    {
     "data": {
      "image/png": "[encoded data removed]",
      "text/plain": [
       "<Figure size 800x800 with 1 Axes>"
      ]
     },
     "metadata": {},
     "output_type": "display_data"
    }
   ],
   "source": [
    "relative_mismatch_counts = [source_code_mismatch / total_source_code, test_code_mismatch / total_test_code, license_mismatch / total_license, readme_mismatch / total_readme]\n",
    "labels = ['Source Code Mismatch', 'Test Code Mismatch', 'License Mismatch', 'README Mismatch']\n",
    "plt.figure(figsize=(8, 8))\n",
    "plt.pie(relative_mismatch_counts, labels=labels)\n",
    "plt.title('Relative Mismatch Distribution')\n",
    "plt.show()"
   ]
  },
  {
   "cell_type": "code",
   "execution_count": 28,
   "metadata": {},
   "outputs": [
    {
     "name": "stdout",
     "output_type": "stream",
     "text": [
      "Fraction of Source Code files which have discrepancies:  0.05309769038701623\n",
      "Fraction of Test Code files which have discrepancies:  0.05432595573440644\n",
      "Fraction of License files which have discrepancies:  0.15789473684210525\n",
      "Fraction of README files which have discrepancies:  0.065439672801636\n"
     ]
    }
   ],
   "source": [
    "print(\"Fraction of Source Code files which have discrepancies: \", source_code_mismatch / total_source_code)\n",
    "print(\"Fraction of Test Code files which have discrepancies: \", test_code_mismatch / total_test_code)\n",
    "print(\"Fraction of License files which have discrepancies: \", license_mismatch / total_license)\n",
    "print(\"Fraction of README files which have discrepancies: \", readme_mismatch / total_readme)"
   ]
  }
 ],
 "metadata": {
  "language_info": {
   "name": "python"
  }
 },
 "nbformat": 4,
 "nbformat_minor": 2
}
